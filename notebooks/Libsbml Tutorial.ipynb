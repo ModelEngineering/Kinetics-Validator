{
 "cells": [
  {
   "cell_type": "markdown",
   "metadata": {},
   "source": [
    "# Libsbml Tutorial\n",
    "This tutorial briefly describes how to access elements of libsbml using a python wrapper called simple_sbml."
   ]
  },
  {
   "cell_type": "code",
   "execution_count": 13,
   "metadata": {},
   "outputs": [],
   "source": [
    "import os\n",
    "import sys \n",
    "\n",
    "# The following is needed so that python can fined code files\n",
    "project_dir = os.path.dirname(os.path.dirname(\n",
    "    os.path.abspath(os.getcwd())))\n",
    "project_dir = os.path.join(project_dir, \"kinetics_validator\")\n",
    "sys.path.insert(0, project_dir)\n",
    "\n",
    "from src.common.simple_sbml import SimpleSBML\n",
    "import src.common.simple_sbml as simple_sbml\n",
    "import src.common.constants as cn"
   ]
  },
  {
   "cell_type": "code",
   "execution_count": 7,
   "metadata": {},
   "outputs": [],
   "source": [
    "path = os.path.join(cn.TEST_DIR, \"common\")\n",
    "path = os.path.join(path, \"test_file.xml\")\n",
    "simple = SimpleSBML(path)"
   ]
  },
  {
   "cell_type": "markdown",
   "metadata": {},
   "source": [
    "## Accessing Reactions, Species, Parameters"
   ]
  },
  {
   "cell_type": "markdown",
   "metadata": {},
   "source": [
    "## Reaction Details - Reactants, Products, Kinetics"
   ]
  },
  {
   "cell_type": "markdown",
   "metadata": {},
   "source": [
    "## Accessing Models in BioModels"
   ]
  },
  {
   "cell_type": "code",
   "execution_count": 8,
   "metadata": {},
   "outputs": [
    {
     "data": {
      "text/plain": [
       "['__class__',\n",
       " '__delattr__',\n",
       " '__dict__',\n",
       " '__dir__',\n",
       " '__doc__',\n",
       " '__eq__',\n",
       " '__format__',\n",
       " '__ge__',\n",
       " '__getattribute__',\n",
       " '__gt__',\n",
       " '__hash__',\n",
       " '__init__',\n",
       " '__init_subclass__',\n",
       " '__le__',\n",
       " '__lt__',\n",
       " '__module__',\n",
       " '__ne__',\n",
       " '__new__',\n",
       " '__reduce__',\n",
       " '__reduce_ex__',\n",
       " '__repr__',\n",
       " '__setattr__',\n",
       " '__sizeof__',\n",
       " '__str__',\n",
       " '__subclasshook__',\n",
       " '__weakref__',\n",
       " '_getInstance',\n",
       " 'getParameter',\n",
       " 'getReaction',\n",
       " 'getSpecies',\n",
       " 'model',\n",
       " 'parameters',\n",
       " 'reactions',\n",
       " 'species']"
      ]
     },
     "execution_count": 8,
     "metadata": {},
     "output_type": "execute_result"
    }
   ],
   "source": [
    "dir(simple)"
   ]
  },
  {
   "cell_type": "code",
   "execution_count": 16,
   "metadata": {},
   "outputs": [
    {
     "name": "stdout",
     "output_type": "stream",
     "text": [
      "File BIOMD0000000001.xml has 17 reactions.\n",
      "File BIOMD0000000002.xml has 17 reactions.\n",
      "File BIOMD0000000003.xml has 7 reactions.\n",
      "File BIOMD0000000004.xml has 7 reactions.\n",
      "File BIOMD0000000005.xml has 9 reactions.\n",
      "File BIOMD0000000006.xml has 3 reactions.\n",
      "File BIOMD0000000007.xml has 25 reactions.\n",
      "File BIOMD0000000008.xml has 13 reactions.\n",
      "File BIOMD0000000009.xml has 20 reactions.\n",
      "File BIOMD0000000010.xml has 10 reactions.\n"
     ]
    }
   ],
   "source": [
    "iterator = simple_sbml.modelIterator(final=10)\n",
    "for item in iterator:\n",
    "    print(\"File %s has %d reactions.\" % (item.filename, len(item.model.reactions)))"
   ]
  }
 ],
 "metadata": {
  "kernelspec": {
   "display_name": "Python 3",
   "language": "python",
   "name": "python3"
  },
  "language_info": {
   "codemirror_mode": {
    "name": "ipython",
    "version": 3
   },
   "file_extension": ".py",
   "mimetype": "text/x-python",
   "name": "python",
   "nbconvert_exporter": "python",
   "pygments_lexer": "ipython3",
   "version": "3.6.4"
  }
 },
 "nbformat": 4,
 "nbformat_minor": 4
}
