{
 "cells": [
  {
   "cell_type": "markdown",
   "metadata": {},
   "source": [
    "# Libsbml Tutorial\n",
    "This tutorial briefly describes how to access elements of libsbml using a python wrapper called simple_sbml."
   ]
  },
  {
   "cell_type": "code",
   "execution_count": 13,
   "metadata": {},
   "outputs": [],
   "source": [
    "import numpy as np\r\n",
    "import os\r\n",
    "import sys \r\n",
    "\r\n",
    "# The following is needed so that python can fined code files\r\n",
    "project_dir = os.path.dirname(os.path.dirname(\r\n",
    "    os.path.abspath(os.getcwd())))\r\n",
    "project_dir = os.path.join(project_dir, \"kinetics_validator\")\r\n",
    "sys.path.insert(0, project_dir)\r\n",
    "\r\n",
    "from SBMLKinetics.common.simple_sbml import SimpleSBML\r\n",
    "import SBMLKinetics.common.simple_sbml as simple_sbml\r\n",
    "import SBMLKinetics.common.constants as cn"
   ]
  },
  {
   "cell_type": "code",
   "execution_count": 2,
   "metadata": {},
   "outputs": [],
   "source": [
    "path = os.path.join(cn.TEST_DIR, \"common\")\n",
    "path = os.path.join(path, \"test_file.xml\")\n",
    "simple = SimpleSBML(path)"
   ]
  },
  {
   "cell_type": "markdown",
   "metadata": {},
   "source": [
    "## Accessing Reactions, Species, Parameters"
   ]
  },
  {
   "cell_type": "markdown",
   "metadata": {},
   "source": [
    "## Reaction Details - Reactants, Products, Kinetics"
   ]
  },
  {
   "cell_type": "code",
   "execution_count": 3,
   "metadata": {},
   "outputs": [
    {
     "data": {
      "text/plain": [
       "['__class__',\n",
       " '__delattr__',\n",
       " '__dict__',\n",
       " '__dir__',\n",
       " '__doc__',\n",
       " '__eq__',\n",
       " '__format__',\n",
       " '__ge__',\n",
       " '__getattribute__',\n",
       " '__gt__',\n",
       " '__hash__',\n",
       " '__init__',\n",
       " '__init_subclass__',\n",
       " '__le__',\n",
       " '__lt__',\n",
       " '__module__',\n",
       " '__ne__',\n",
       " '__new__',\n",
       " '__reduce__',\n",
       " '__reduce_ex__',\n",
       " '__repr__',\n",
       " '__setattr__',\n",
       " '__sizeof__',\n",
       " '__str__',\n",
       " '__subclasshook__',\n",
       " '__weakref__',\n",
       " '_getInstance',\n",
       " 'getParameter',\n",
       " 'getReaction',\n",
       " 'getSpecies',\n",
       " 'model',\n",
       " 'parameters',\n",
       " 'reactions',\n",
       " 'species']"
      ]
     },
     "execution_count": 3,
     "metadata": {},
     "output_type": "execute_result"
    }
   ],
   "source": [
    "dir(simple)"
   ]
  },
  {
   "cell_type": "code",
   "execution_count": 4,
   "metadata": {},
   "outputs": [
    {
     "name": "stdout",
     "output_type": "stream",
     "text": [
      "React0: ['comp1', 'kf_0', 'B', 'comp1', 'kf_0', 'B', 'kr_0', 'BL', 'comp1', 'kf_0', 'B', 'comp1', 'kf_0', 'B', 'kr_0', 'BL', 'comp1', 'kf_0', 'B', 'comp1', 'kf_0', 'B', 'kr_0', 'BL', 'comp1', 'kf_0', 'B', 'comp1', 'kf_0', 'B', 'kr_0', 'BL']\n",
      "React1: ['comp1', 'kf_1', 'BL', 'comp1', 'kf_1', 'BL', 'kr_1', 'BLL', 'comp1', 'kf_1', 'BL', 'comp1', 'kf_1', 'BL', 'kr_1', 'BLL', 'comp1', 'kf_1', 'BL', 'comp1', 'kf_1', 'BL', 'kr_1', 'BLL', 'comp1', 'kf_1', 'BL', 'comp1', 'kf_1', 'BL', 'kr_1', 'BLL']\n",
      "React2: ['comp1', 'kf_2', 'BLL', 'comp1', 'kf_2', 'BLL', 'kr_2', 'ALL', 'comp1', 'kf_2', 'BLL', 'comp1', 'kf_2', 'BLL', 'kr_2', 'ALL', 'comp1', 'kf_2', 'BLL', 'comp1', 'kf_2', 'BLL', 'kr_2', 'ALL', 'comp1', 'kf_2', 'BLL', 'comp1', 'kf_2', 'BLL', 'kr_2', 'ALL']\n",
      "React3: ['comp1', 'kf_3', 'A', 'comp1', 'kf_3', 'A', 'kr_3', 'AL', 'comp1', 'kf_3', 'A', 'comp1', 'kf_3', 'A', 'kr_3', 'AL', 'comp1', 'kf_3', 'A', 'comp1', 'kf_3', 'A', 'kr_3', 'AL', 'comp1', 'kf_3', 'A', 'comp1', 'kf_3', 'A', 'kr_3', 'AL']\n",
      "React4: ['comp1', 'kf_4', 'AL', 'comp1', 'kf_4', 'AL', 'kr_4', 'ALL', 'comp1', 'kf_4', 'AL', 'comp1', 'kf_4', 'AL', 'kr_4', 'ALL', 'comp1', 'kf_4', 'AL', 'comp1', 'kf_4', 'AL', 'kr_4', 'ALL', 'comp1', 'kf_4', 'AL', 'comp1', 'kf_4', 'AL', 'kr_4', 'ALL']\n",
      "React5: ['comp1', 'kf_5', 'B', 'comp1', 'kf_5', 'B', 'kr_5', 'A', 'comp1', 'kf_5', 'B', 'comp1', 'kf_5', 'B', 'kr_5', 'A', 'comp1', 'kf_5', 'B', 'comp1', 'kf_5', 'B', 'kr_5', 'A', 'comp1', 'kf_5', 'B', 'comp1', 'kf_5', 'B', 'kr_5', 'A']\n",
      "React6: ['comp1', 'kf_6', 'BL', 'comp1', 'kf_6', 'BL', 'kr_6', 'AL', 'comp1', 'kf_6', 'BL', 'comp1', 'kf_6', 'BL', 'kr_6', 'AL', 'comp1', 'kf_6', 'BL', 'comp1', 'kf_6', 'BL', 'kr_6', 'AL', 'comp1', 'kf_6', 'BL', 'comp1', 'kf_6', 'BL', 'kr_6', 'AL']\n",
      "React7: ['comp1', 'kf_7', 'I', 'comp1', 'kf_7', 'I', 'kr_7', 'IL', 'comp1', 'kf_7', 'I', 'comp1', 'kf_7', 'I', 'kr_7', 'IL', 'comp1', 'kf_7', 'I', 'comp1', 'kf_7', 'I', 'kr_7', 'IL', 'comp1', 'kf_7', 'I', 'comp1', 'kf_7', 'I', 'kr_7', 'IL']\n",
      "React8: ['comp1', 'kf_8', 'IL', 'comp1', 'kf_8', 'IL', 'kr_8', 'ILL', 'comp1', 'kf_8', 'IL', 'comp1', 'kf_8', 'IL', 'kr_8', 'ILL', 'comp1', 'kf_8', 'IL', 'comp1', 'kf_8', 'IL', 'kr_8', 'ILL', 'comp1', 'kf_8', 'IL', 'comp1', 'kf_8', 'IL', 'kr_8', 'ILL']\n",
      "React9: ['comp1', 'kf_9', 'A', 'comp1', 'kf_9', 'A', 'kr_9', 'I', 'comp1', 'kf_9', 'A', 'comp1', 'kf_9', 'A', 'kr_9', 'I', 'comp1', 'kf_9', 'A', 'comp1', 'kf_9', 'A', 'kr_9', 'I', 'comp1', 'kf_9', 'A', 'comp1', 'kf_9', 'A', 'kr_9', 'I']\n",
      "React10: ['comp1', 'kf_10', 'AL', 'comp1', 'kf_10', 'AL', 'kr_10', 'IL', 'comp1', 'kf_10', 'AL', 'comp1', 'kf_10', 'AL', 'kr_10', 'IL', 'comp1', 'kf_10', 'AL', 'comp1', 'kf_10', 'AL', 'kr_10', 'IL', 'comp1', 'kf_10', 'AL', 'comp1', 'kf_10', 'AL', 'kr_10', 'IL']\n",
      "React11: ['comp1', 'kf_11', 'ALL', 'comp1', 'kf_11', 'ALL', 'kr_11', 'ILL', 'comp1', 'kf_11', 'ALL', 'comp1', 'kf_11', 'ALL', 'kr_11', 'ILL', 'comp1', 'kf_11', 'ALL', 'comp1', 'kf_11', 'ALL', 'kr_11', 'ILL', 'comp1', 'kf_11', 'ALL', 'comp1', 'kf_11', 'ALL', 'kr_11', 'ILL']\n",
      "React12: ['comp1', 'kf_12', 'D', 'comp1', 'kf_12', 'D', 'kr_12', 'DL', 'comp1', 'kf_12', 'D', 'comp1', 'kf_12', 'D', 'kr_12', 'DL', 'comp1', 'kf_12', 'D', 'comp1', 'kf_12', 'D', 'kr_12', 'DL', 'comp1', 'kf_12', 'D', 'comp1', 'kf_12', 'D', 'kr_12', 'DL']\n",
      "React13: ['comp1', 'kf_13', 'DL', 'comp1', 'kf_13', 'DL', 'kr_13', 'DLL', 'comp1', 'kf_13', 'DL', 'comp1', 'kf_13', 'DL', 'kr_13', 'DLL', 'comp1', 'kf_13', 'DL', 'comp1', 'kf_13', 'DL', 'kr_13', 'DLL', 'comp1', 'kf_13', 'DL', 'comp1', 'kf_13', 'DL', 'kr_13', 'DLL']\n",
      "React14: ['comp1', 'kf_14', 'I', 'comp1', 'kf_14', 'I', 'kr_14', 'D', 'comp1', 'kf_14', 'I', 'comp1', 'kf_14', 'I', 'kr_14', 'D', 'comp1', 'kf_14', 'I', 'comp1', 'kf_14', 'I', 'kr_14', 'D', 'comp1', 'kf_14', 'I', 'comp1', 'kf_14', 'I', 'kr_14', 'D']\n",
      "React15: ['comp1', 'kf_15', 'IL', 'comp1', 'kf_15', 'IL', 'kr_15', 'DL', 'comp1', 'kf_15', 'IL', 'comp1', 'kf_15', 'IL', 'kr_15', 'DL', 'comp1', 'kf_15', 'IL', 'comp1', 'kf_15', 'IL', 'kr_15', 'DL', 'comp1', 'kf_15', 'IL', 'comp1', 'kf_15', 'IL', 'kr_15', 'DL']\n",
      "React16: ['comp1', 'kf_16', 'ILL', 'comp1', 'kf_16', 'ILL', 'kr_16', 'DLL', 'comp1', 'kf_16', 'ILL', 'comp1', 'kf_16', 'ILL', 'kr_16', 'DLL', 'comp1', 'kf_16', 'ILL', 'comp1', 'kf_16', 'ILL', 'kr_16', 'DLL', 'comp1', 'kf_16', 'ILL', 'comp1', 'kf_16', 'ILL', 'kr_16', 'DLL']\n",
      "React0: ['comp1', 'kf_0', 'B', 'comp1', 'kf_0', 'B', 'L', 'comp1', 'kf_0', 'B', 'comp1', 'kf_0', 'B', 'L', 'kr_0', 'BL', 'comp1', 'kf_0', 'B', 'comp1', 'kf_0', 'B', 'L', 'comp1', 'kf_0', 'B', 'comp1', 'kf_0', 'B', 'L', 'kr_0', 'BL', 'comp1', 'kf_0', 'B', 'comp1', 'kf_0', 'B', 'L', 'comp1', 'kf_0', 'B', 'comp1', 'kf_0', 'B', 'L', 'kr_0', 'BL', 'comp1', 'kf_0', 'B', 'comp1', 'kf_0', 'B', 'L', 'comp1', 'kf_0', 'B', 'comp1', 'kf_0', 'B', 'L', 'kr_0', 'BL']\n",
      "React1: ['comp1', 'kf_1', 'BL', 'comp1', 'kf_1', 'BL', 'L', 'comp1', 'kf_1', 'BL', 'comp1', 'kf_1', 'BL', 'L', 'kr_1', 'BLL', 'comp1', 'kf_1', 'BL', 'comp1', 'kf_1', 'BL', 'L', 'comp1', 'kf_1', 'BL', 'comp1', 'kf_1', 'BL', 'L', 'kr_1', 'BLL', 'comp1', 'kf_1', 'BL', 'comp1', 'kf_1', 'BL', 'L', 'comp1', 'kf_1', 'BL', 'comp1', 'kf_1', 'BL', 'L', 'kr_1', 'BLL', 'comp1', 'kf_1', 'BL', 'comp1', 'kf_1', 'BL', 'L', 'comp1', 'kf_1', 'BL', 'comp1', 'kf_1', 'BL', 'L', 'kr_1', 'BLL']\n",
      "React2: ['comp1', 'kf_2', 'BLL', 'comp1', 'kf_2', 'BLL', 'kr_2', 'ALL', 'comp1', 'kf_2', 'BLL', 'comp1', 'kf_2', 'BLL', 'kr_2', 'ALL', 'comp1', 'kf_2', 'BLL', 'comp1', 'kf_2', 'BLL', 'kr_2', 'ALL', 'comp1', 'kf_2', 'BLL', 'comp1', 'kf_2', 'BLL', 'kr_2', 'ALL']\n",
      "React3: ['comp1', 'kf_3', 'A', 'comp1', 'kf_3', 'A', 'L', 'comp1', 'kf_3', 'A', 'comp1', 'kf_3', 'A', 'L', 'kr_3', 'AL', 'comp1', 'kf_3', 'A', 'comp1', 'kf_3', 'A', 'L', 'comp1', 'kf_3', 'A', 'comp1', 'kf_3', 'A', 'L', 'kr_3', 'AL', 'comp1', 'kf_3', 'A', 'comp1', 'kf_3', 'A', 'L', 'comp1', 'kf_3', 'A', 'comp1', 'kf_3', 'A', 'L', 'kr_3', 'AL', 'comp1', 'kf_3', 'A', 'comp1', 'kf_3', 'A', 'L', 'comp1', 'kf_3', 'A', 'comp1', 'kf_3', 'A', 'L', 'kr_3', 'AL']\n",
      "React4: ['comp1', 'kf_4', 'AL', 'comp1', 'kf_4', 'AL', 'L', 'comp1', 'kf_4', 'AL', 'comp1', 'kf_4', 'AL', 'L', 'kr_4', 'ALL', 'comp1', 'kf_4', 'AL', 'comp1', 'kf_4', 'AL', 'L', 'comp1', 'kf_4', 'AL', 'comp1', 'kf_4', 'AL', 'L', 'kr_4', 'ALL', 'comp1', 'kf_4', 'AL', 'comp1', 'kf_4', 'AL', 'L', 'comp1', 'kf_4', 'AL', 'comp1', 'kf_4', 'AL', 'L', 'kr_4', 'ALL', 'comp1', 'kf_4', 'AL', 'comp1', 'kf_4', 'AL', 'L', 'comp1', 'kf_4', 'AL', 'comp1', 'kf_4', 'AL', 'L', 'kr_4', 'ALL']\n",
      "React5: ['comp1', 'kf_5', 'B', 'comp1', 'kf_5', 'B', 'kr_5', 'A', 'comp1', 'kf_5', 'B', 'comp1', 'kf_5', 'B', 'kr_5', 'A', 'comp1', 'kf_5', 'B', 'comp1', 'kf_5', 'B', 'kr_5', 'A', 'comp1', 'kf_5', 'B', 'comp1', 'kf_5', 'B', 'kr_5', 'A']\n",
      "React6: ['comp1', 'kf_6', 'BL', 'comp1', 'kf_6', 'BL', 'kr_6', 'AL', 'comp1', 'kf_6', 'BL', 'comp1', 'kf_6', 'BL', 'kr_6', 'AL', 'comp1', 'kf_6', 'BL', 'comp1', 'kf_6', 'BL', 'kr_6', 'AL', 'comp1', 'kf_6', 'BL', 'comp1', 'kf_6', 'BL', 'kr_6', 'AL']\n",
      "React7: ['comp1', 'kf_7', 'I', 'comp1', 'kf_7', 'I', 'L', 'comp1', 'kf_7', 'I', 'comp1', 'kf_7', 'I', 'L', 'kr_7', 'IL', 'comp1', 'kf_7', 'I', 'comp1', 'kf_7', 'I', 'L', 'comp1', 'kf_7', 'I', 'comp1', 'kf_7', 'I', 'L', 'kr_7', 'IL', 'comp1', 'kf_7', 'I', 'comp1', 'kf_7', 'I', 'L', 'comp1', 'kf_7', 'I', 'comp1', 'kf_7', 'I', 'L', 'kr_7', 'IL', 'comp1', 'kf_7', 'I', 'comp1', 'kf_7', 'I', 'L', 'comp1', 'kf_7', 'I', 'comp1', 'kf_7', 'I', 'L', 'kr_7', 'IL']\n",
      "React8: ['comp1', 'kf_8', 'IL', 'comp1', 'kf_8', 'IL', 'L', 'comp1', 'kf_8', 'IL', 'comp1', 'kf_8', 'IL', 'L', 'kr_8', 'ILL', 'comp1', 'kf_8', 'IL', 'comp1', 'kf_8', 'IL', 'L', 'comp1', 'kf_8', 'IL', 'comp1', 'kf_8', 'IL', 'L', 'kr_8', 'ILL', 'comp1', 'kf_8', 'IL', 'comp1', 'kf_8', 'IL', 'L', 'comp1', 'kf_8', 'IL', 'comp1', 'kf_8', 'IL', 'L', 'kr_8', 'ILL', 'comp1', 'kf_8', 'IL', 'comp1', 'kf_8', 'IL', 'L', 'comp1', 'kf_8', 'IL', 'comp1', 'kf_8', 'IL', 'L', 'kr_8', 'ILL']\n",
      "React9: ['comp1', 'kf_9', 'A', 'comp1', 'kf_9', 'A', 'kr_9', 'I', 'comp1', 'kf_9', 'A', 'comp1', 'kf_9', 'A', 'kr_9', 'I', 'comp1', 'kf_9', 'A', 'comp1', 'kf_9', 'A', 'kr_9', 'I', 'comp1', 'kf_9', 'A', 'comp1', 'kf_9', 'A', 'kr_9', 'I']\n",
      "React10: ['comp1', 'kf_10', 'AL', 'comp1', 'kf_10', 'AL', 'kr_10', 'IL', 'comp1', 'kf_10', 'AL', 'comp1', 'kf_10', 'AL', 'kr_10', 'IL', 'comp1', 'kf_10', 'AL', 'comp1', 'kf_10', 'AL', 'kr_10', 'IL', 'comp1', 'kf_10', 'AL', 'comp1', 'kf_10', 'AL', 'kr_10', 'IL']\n",
      "React11: ['comp1', 'kf_11', 'ALL', 'comp1', 'kf_11', 'ALL', 'kr_11', 'ILL', 'comp1', 'kf_11', 'ALL', 'comp1', 'kf_11', 'ALL', 'kr_11', 'ILL', 'comp1', 'kf_11', 'ALL', 'comp1', 'kf_11', 'ALL', 'kr_11', 'ILL', 'comp1', 'kf_11', 'ALL', 'comp1', 'kf_11', 'ALL', 'kr_11', 'ILL']\n",
      "React12: ['comp1', 'kf_12', 'D', 'comp1', 'kf_12', 'D', 'L', 'comp1', 'kf_12', 'D', 'comp1', 'kf_12', 'D', 'L', 'kr_12', 'DL', 'comp1', 'kf_12', 'D', 'comp1', 'kf_12', 'D', 'L', 'comp1', 'kf_12', 'D', 'comp1', 'kf_12', 'D', 'L', 'kr_12', 'DL', 'comp1', 'kf_12', 'D', 'comp1', 'kf_12', 'D', 'L', 'comp1', 'kf_12', 'D', 'comp1', 'kf_12', 'D', 'L', 'kr_12', 'DL', 'comp1', 'kf_12', 'D', 'comp1', 'kf_12', 'D', 'L', 'comp1', 'kf_12', 'D', 'comp1', 'kf_12', 'D', 'L', 'kr_12', 'DL']\n",
      "React13: ['comp1', 'kf_13', 'DL', 'comp1', 'kf_13', 'DL', 'L', 'comp1', 'kf_13', 'DL', 'comp1', 'kf_13', 'DL', 'L', 'kr_13', 'DLL', 'comp1', 'kf_13', 'DL', 'comp1', 'kf_13', 'DL', 'L', 'comp1', 'kf_13', 'DL', 'comp1', 'kf_13', 'DL', 'L', 'kr_13', 'DLL', 'comp1', 'kf_13', 'DL', 'comp1', 'kf_13', 'DL', 'L', 'comp1', 'kf_13', 'DL', 'comp1', 'kf_13', 'DL', 'L', 'kr_13', 'DLL', 'comp1', 'kf_13', 'DL', 'comp1', 'kf_13', 'DL', 'L', 'comp1', 'kf_13', 'DL', 'comp1', 'kf_13', 'DL', 'L', 'kr_13', 'DLL']\n",
      "React14: ['comp1', 'kf_14', 'I', 'comp1', 'kf_14', 'I', 'kr_14', 'D', 'comp1', 'kf_14', 'I', 'comp1', 'kf_14', 'I', 'kr_14', 'D', 'comp1', 'kf_14', 'I', 'comp1', 'kf_14', 'I', 'kr_14', 'D', 'comp1', 'kf_14', 'I', 'comp1', 'kf_14', 'I', 'kr_14', 'D']\n",
      "React15: ['comp1', 'kf_15', 'IL', 'comp1', 'kf_15', 'IL', 'kr_15', 'DL', 'comp1', 'kf_15', 'IL', 'comp1', 'kf_15', 'IL', 'kr_15', 'DL', 'comp1', 'kf_15', 'IL', 'comp1', 'kf_15', 'IL', 'kr_15', 'DL', 'comp1', 'kf_15', 'IL', 'comp1', 'kf_15', 'IL', 'kr_15', 'DL']\n",
      "React16: ['comp1', 'kf_16', 'ILL', 'comp1', 'kf_16', 'ILL', 'kr_16', 'DLL', 'comp1', 'kf_16', 'ILL', 'comp1', 'kf_16', 'ILL', 'kr_16', 'DLL', 'comp1', 'kf_16', 'ILL', 'comp1', 'kf_16', 'ILL', 'kr_16', 'DLL', 'comp1', 'kf_16', 'ILL', 'comp1', 'kf_16', 'ILL', 'kr_16', 'DLL']\n",
      "reaction1: ['cell', 'vi']\n",
      "reaction2: ['C', 'cell', 'C', 'cell', 'kd']\n",
      "reaction3: ['C', 'cell', 'C', 'cell', 'vd', 'C', 'cell', 'C', 'cell', 'vd', 'X', 'C', 'cell', 'C', 'cell', 'vd', 'C', 'cell', 'C', 'cell', 'vd', 'X', 'power']\n",
      "reaction4: ['cell', 'cell', 'cell', 'cell', 'M', 'cell', 'cell', 'cell', 'cell', 'M', 'cell', 'cell', 'cell', 'cell', 'M', 'cell', 'cell', 'cell', 'cell', 'M', 'cell', 'cell', 'cell', 'cell', 'M', 'cell', 'cell', 'cell', 'cell', 'M', 'cell', 'cell', 'cell', 'cell', 'M', 'cell', 'cell', 'cell', 'cell', 'M', 'V1', 'cell', 'cell', 'cell', 'cell', 'M', 'cell', 'cell', 'cell', 'cell', 'M', 'cell', 'cell', 'cell', 'cell', 'M', 'cell', 'cell', 'cell', 'cell', 'M', 'cell', 'cell', 'cell', 'cell', 'M', 'cell', 'cell', 'cell', 'cell', 'M', 'cell', 'cell', 'cell', 'cell', 'M', 'cell', 'cell', 'cell', 'cell', 'M', 'V1', 'power']\n",
      "reaction5: ['cell', 'M', 'cell', 'M', 'V2', 'cell', 'M', 'cell', 'M', 'V2', 'power']\n",
      "reaction6: ['cell', 'V3', 'cell', 'V3', 'cell', 'V3', 'cell', 'V3', 'cell', 'V3', 'cell', 'V3', 'cell', 'V3', 'cell', 'V3', 'X', 'cell', 'V3', 'cell', 'V3', 'cell', 'V3', 'cell', 'V3', 'cell', 'V3', 'cell', 'V3', 'cell', 'V3', 'cell', 'V3', 'X', 'cell', 'V3', 'cell', 'V3', 'cell', 'V3', 'cell', 'V3', 'cell', 'V3', 'cell', 'V3', 'cell', 'V3', 'cell', 'V3', 'X', 'cell', 'V3', 'cell', 'V3', 'cell', 'V3', 'cell', 'V3', 'cell', 'V3', 'cell', 'V3', 'cell', 'V3', 'cell', 'V3', 'X', 'cell', 'V3', 'cell', 'V3', 'cell', 'V3', 'cell', 'V3', 'cell', 'V3', 'cell', 'V3', 'cell', 'V3', 'cell', 'V3', 'X', 'cell', 'V3', 'cell', 'V3', 'cell', 'V3', 'cell', 'V3', 'cell', 'V3', 'cell', 'V3', 'cell', 'V3', 'cell', 'V3', 'X', 'cell', 'V3', 'cell', 'V3', 'cell', 'V3', 'cell', 'V3', 'cell', 'V3', 'cell', 'V3', 'cell', 'V3', 'cell', 'V3', 'X', 'cell', 'V3', 'cell', 'V3', 'cell', 'V3', 'cell', 'V3', 'cell', 'V3', 'cell', 'V3', 'cell', 'V3', 'cell', 'V3', 'X', 'power']\n",
      "reaction7: ['cell', 'V4', 'cell', 'V4', 'X', 'cell', 'V4', 'cell', 'V4', 'X', 'power']\n",
      "reaction1: ['cell', 'vi']\n",
      "reaction2: ['C', 'cell', 'C', 'cell', 'kd']\n",
      "reaction3: ['C', 'cell', 'C', 'cell', 'vd', 'C', 'cell', 'C', 'cell', 'vd', 'X', 'C', 'cell', 'C', 'cell', 'vd', 'C', 'cell', 'C', 'cell', 'vd', 'X', 'power']\n",
      "reaction4: ['cell', 'MI', 'cell', 'MI', 'V1', 'cell', 'MI', 'cell', 'MI', 'V1', 'power']\n",
      "reaction5: ['cell', 'M', 'cell', 'M', 'V2', 'cell', 'M', 'cell', 'M', 'V2', 'power']\n",
      "reaction6: ['cell', 'V3', 'cell', 'V3', 'XI', 'cell', 'V3', 'cell', 'V3', 'XI', 'power']\n",
      "reaction7: ['cell', 'V4', 'cell', 'V4', 'X', 'cell', 'V4', 'cell', 'V4', 'X', 'power']\n",
      "Reaction1: ['cell', 'k6', 'cell', 'k6', 'M']\n",
      "Reaction2: ['cell', 'C2', 'cell', 'C2', 'k8notP']\n",
      "Reaction3: ['cell', 'CP', 'cell', 'CP', 'k9']\n",
      "Reaction4: ['cell', 'CP', 'cell', 'CP', 'k3', 'cell', 'CP', 'cell', 'CP', 'k3', 'Y']\n",
      "Reaction5: ['cell', 'k5notP', 'cell', 'k5notP', 'M']\n",
      "Reaction6: ['cell', 'k1aa']\n",
      "Reaction7: ['cell', 'k2', 'cell', 'k2', 'Y']\n",
      "Reaction8: ['cell', 'k7', 'cell', 'k7', 'YP']\n",
      "Reaction9: ['cell', 'pM', 'cell', 'pM', 'k4prime', 'k4', 'power', 'cell', 'pM', 'cell', 'pM', 'k4prime', 'k4', 'power', 'cell', 'pM', 'cell', 'pM', 'k4prime', 'k4', 'power', 'cell', 'pM', 'cell', 'pM', 'k4prime', 'k4', 'power']\n",
      "Reaction1: []\n",
      "Reaction2: ['k6', 'u']\n",
      "Reaction3: ['k4', 'z', 'k4', 'z', 'k4prime', 'k4', 'k4', 'z', 'k4', 'z', 'k4prime', 'k4', 'power', 'k4', 'z', 'k4', 'z', 'k4prime', 'k4', 'k4', 'z', 'k4', 'z', 'k4prime', 'k4', 'power']\n",
      "G2K_Creation: []\n",
      "G1K_Creation: []\n",
      "Cdc2Phos: ['G2K', 'kwee', 'G2K', 'kwee', 'k25', 'PG2', 'G2K', 'kwee', 'G2K', 'kwee', 'k25', 'PG2']\n",
      "G2R_Creation: ['G2K', 'k7', 'G2K', 'k7', 'R', 'G2K', 'k7', 'G2K', 'k7', 'R', 'G2R', 'k7r', 'G2K', 'k7', 'G2K', 'k7', 'R', 'G2K', 'k7', 'G2K', 'k7', 'R', 'G2R', 'k7r']\n",
      "PG2R_Creation: ['k7', 'PG2', 'k7', 'PG2', 'R', 'k7', 'PG2', 'k7', 'PG2', 'R', 'k7r', 'PG2R', 'k7', 'PG2', 'k7', 'PG2', 'R', 'k7', 'PG2', 'k7', 'PG2', 'R', 'k7r', 'PG2R']\n",
      "Rum1DegInG2R: ['G2R', 'k4']\n",
      "Rum1Deg: ['k4', 'R']\n",
      "Rum1DegInPG2R: ['k4', 'PG2R']\n",
      "RumDegInG1R: ['G1R', 'k4']\n",
      "G2K_dissoc: ['G2K', 'k2']\n",
      "PG2_dissoc: ['k2', 'PG2']\n",
      "G1K_Dissociation: ['G1K', 'k6']\n",
      "PG2R_Dissociation: ['k2prime', 'PG2R']\n",
      "G2R_Dissociation: ['G2R', 'k2prime']\n",
      "G1R_Dissociation: ['G1R', 'k6prime']\n",
      "G1R_Binding: ['G1K', 'k8', 'G1K', 'k8', 'R', 'G1K', 'k8', 'G1K', 'k8', 'R', 'G1R', 'k8r', 'G1K', 'k8', 'G1K', 'k8', 'R', 'G1K', 'k8', 'G1K', 'k8', 'R', 'G1R', 'k8r']\n",
      "G2R_Dissociation_UbE: ['G2R', 'k2']\n",
      "PG2R_Dissociation_UbE: ['k2', 'PG2R']\n",
      "Rum1_Production: []\n",
      "Rum1_Deg_SPF: ['kp', 'Mass', 'kp', 'Mass', 'R', 'kp', 'Mass', 'kp', 'Mass', 'R', 'SPF', 'kp', 'Mass', 'kp', 'Mass', 'R', 'kp', 'Mass', 'kp', 'Mass', 'R', 'SPF', 'Kmp', 'R', 'kp', 'Mass', 'kp', 'Mass', 'R', 'kp', 'Mass', 'kp', 'Mass', 'R', 'SPF', 'kp', 'Mass', 'kp', 'Mass', 'R', 'kp', 'Mass', 'kp', 'Mass', 'R', 'SPF', 'Kmp', 'R']\n",
      "IE_Reaction: ['IEB', 'ki', 'IEB', 'ki', 'MPF', 'IEB', 'ki', 'IEB', 'ki', 'MPF', 'IEB', 'Kmi', 'IEB', 'ki', 'IEB', 'ki', 'MPF', 'IEB', 'ki', 'IEB', 'ki', 'MPF', 'IEB', 'Kmi', 'IEB', 'ki', 'IEB', 'ki', 'MPF', 'IEB', 'ki', 'IEB', 'ki', 'MPF', 'IEB', 'Kmi', 'IEB', 'ki', 'IEB', 'ki', 'MPF', 'IEB', 'ki', 'IEB', 'ki', 'MPF', 'IEB', 'Kmi', 'IE', 'kir', 'IEB', 'ki', 'IEB', 'ki', 'MPF', 'IEB', 'ki', 'IEB', 'ki', 'MPF', 'IEB', 'Kmi', 'IEB', 'ki', 'IEB', 'ki', 'MPF', 'IEB', 'ki', 'IEB', 'ki', 'MPF', 'IEB', 'Kmi', 'IEB', 'ki', 'IEB', 'ki', 'MPF', 'IEB', 'ki', 'IEB', 'ki', 'MPF', 'IEB', 'Kmi', 'IEB', 'ki', 'IEB', 'ki', 'MPF', 'IEB', 'ki', 'IEB', 'ki', 'MPF', 'IEB', 'Kmi', 'IE', 'kir', 'IE', 'Kmir', 'IEB', 'ki', 'IEB', 'ki', 'MPF', 'IEB', 'ki', 'IEB', 'ki', 'MPF', 'IEB', 'Kmi', 'IEB', 'ki', 'IEB', 'ki', 'MPF', 'IEB', 'ki', 'IEB', 'ki', 'MPF', 'IEB', 'Kmi', 'IEB', 'ki', 'IEB', 'ki', 'MPF', 'IEB', 'ki', 'IEB', 'ki', 'MPF', 'IEB', 'Kmi', 'IEB', 'ki', 'IEB', 'ki', 'MPF', 'IEB', 'ki', 'IEB', 'ki', 'MPF', 'IEB', 'Kmi', 'IE', 'kir', 'IEB', 'ki', 'IEB', 'ki', 'MPF', 'IEB', 'ki', 'IEB', 'ki', 'MPF', 'IEB', 'Kmi', 'IEB', 'ki', 'IEB', 'ki', 'MPF', 'IEB', 'ki', 'IEB', 'ki', 'MPF', 'IEB', 'Kmi', 'IEB', 'ki', 'IEB', 'ki', 'MPF', 'IEB', 'ki', 'IEB', 'ki', 'MPF', 'IEB', 'Kmi', 'IEB', 'ki', 'IEB', 'ki', 'MPF', 'IEB', 'ki', 'IEB', 'ki', 'MPF', 'IEB', 'Kmi', 'IE', 'kir', 'IE', 'Kmir', 'IEB', 'ki', 'IEB', 'ki', 'MPF', 'IEB', 'ki', 'IEB', 'ki', 'MPF', 'IEB', 'Kmi', 'IEB', 'ki', 'IEB', 'ki', 'MPF', 'IEB', 'ki', 'IEB', 'ki', 'MPF', 'IEB', 'Kmi', 'IEB', 'ki', 'IEB', 'ki', 'MPF', 'IEB', 'ki', 'IEB', 'ki', 'MPF', 'IEB', 'Kmi', 'IEB', 'ki', 'IEB', 'ki', 'MPF', 'IEB', 'ki', 'IEB', 'ki', 'MPF', 'IEB', 'Kmi', 'IE', 'kir', 'IEB', 'ki', 'IEB', 'ki', 'MPF', 'IEB', 'ki', 'IEB', 'ki', 'MPF', 'IEB', 'Kmi', 'IEB', 'ki', 'IEB', 'ki', 'MPF', 'IEB', 'ki', 'IEB', 'ki', 'MPF', 'IEB', 'Kmi', 'IEB', 'ki', 'IEB', 'ki', 'MPF', 'IEB', 'ki', 'IEB', 'ki', 'MPF', 'IEB', 'Kmi', 'IEB', 'ki', 'IEB', 'ki', 'MPF', 'IEB', 'ki', 'IEB', 'ki', 'MPF', 'IEB', 'Kmi', 'IE', 'kir', 'IE', 'Kmir', 'IEB', 'ki', 'IEB', 'ki', 'MPF', 'IEB', 'ki', 'IEB', 'ki', 'MPF', 'IEB', 'Kmi', 'IEB', 'ki', 'IEB', 'ki', 'MPF', 'IEB', 'ki', 'IEB', 'ki', 'MPF', 'IEB', 'Kmi', 'IEB', 'ki', 'IEB', 'ki', 'MPF', 'IEB', 'ki', 'IEB', 'ki', 'MPF', 'IEB', 'Kmi', 'IEB', 'ki', 'IEB', 'ki', 'MPF', 'IEB', 'ki', 'IEB', 'ki', 'MPF', 'IEB', 'Kmi', 'IE', 'kir', 'IEB', 'ki', 'IEB', 'ki', 'MPF', 'IEB', 'ki', 'IEB', 'ki', 'MPF', 'IEB', 'Kmi', 'IEB', 'ki', 'IEB', 'ki', 'MPF', 'IEB', 'ki', 'IEB', 'ki', 'MPF', 'IEB', 'Kmi', 'IEB', 'ki', 'IEB', 'ki', 'MPF', 'IEB', 'ki', 'IEB', 'ki', 'MPF', 'IEB', 'Kmi', 'IEB', 'ki', 'IEB', 'ki', 'MPF', 'IEB', 'ki', 'IEB', 'ki', 'MPF', 'IEB', 'Kmi', 'IE', 'kir', 'IE', 'Kmir']\n",
      "UbE_Reaction: ['IE', 'ku', 'IE', 'ku', 'UbEB', 'IE', 'ku', 'IE', 'ku', 'UbEB', 'Kmu', 'UbEB', 'IE', 'ku', 'IE', 'ku', 'UbEB', 'IE', 'ku', 'IE', 'ku', 'UbEB', 'Kmu', 'UbEB', 'IE', 'ku', 'IE', 'ku', 'UbEB', 'IE', 'ku', 'IE', 'ku', 'UbEB', 'Kmu', 'UbEB', 'IE', 'ku', 'IE', 'ku', 'UbEB', 'IE', 'ku', 'IE', 'ku', 'UbEB', 'Kmu', 'UbEB', 'kur', 'UbE', 'IE', 'ku', 'IE', 'ku', 'UbEB', 'IE', 'ku', 'IE', 'ku', 'UbEB', 'Kmu', 'UbEB', 'IE', 'ku', 'IE', 'ku', 'UbEB', 'IE', 'ku', 'IE', 'ku', 'UbEB', 'Kmu', 'UbEB', 'IE', 'ku', 'IE', 'ku', 'UbEB', 'IE', 'ku', 'IE', 'ku', 'UbEB', 'Kmu', 'UbEB', 'IE', 'ku', 'IE', 'ku', 'UbEB', 'IE', 'ku', 'IE', 'ku', 'UbEB', 'Kmu', 'UbEB', 'kur', 'UbE', 'Kmur', 'UbE', 'IE', 'ku', 'IE', 'ku', 'UbEB', 'IE', 'ku', 'IE', 'ku', 'UbEB', 'Kmu', 'UbEB', 'IE', 'ku', 'IE', 'ku', 'UbEB', 'IE', 'ku', 'IE', 'ku', 'UbEB', 'Kmu', 'UbEB', 'IE', 'ku', 'IE', 'ku', 'UbEB', 'IE', 'ku', 'IE', 'ku', 'UbEB', 'Kmu', 'UbEB', 'IE', 'ku', 'IE', 'ku', 'UbEB', 'IE', 'ku', 'IE', 'ku', 'UbEB', 'Kmu', 'UbEB', 'kur', 'UbE', 'IE', 'ku', 'IE', 'ku', 'UbEB', 'IE', 'ku', 'IE', 'ku', 'UbEB', 'Kmu', 'UbEB', 'IE', 'ku', 'IE', 'ku', 'UbEB', 'IE', 'ku', 'IE', 'ku', 'UbEB', 'Kmu', 'UbEB', 'IE', 'ku', 'IE', 'ku', 'UbEB', 'IE', 'ku', 'IE', 'ku', 'UbEB', 'Kmu', 'UbEB', 'IE', 'ku', 'IE', 'ku', 'UbEB', 'IE', 'ku', 'IE', 'ku', 'UbEB', 'Kmu', 'UbEB', 'kur', 'UbE', 'Kmur', 'UbE', 'IE', 'ku', 'IE', 'ku', 'UbEB', 'IE', 'ku', 'IE', 'ku', 'UbEB', 'Kmu', 'UbEB', 'IE', 'ku', 'IE', 'ku', 'UbEB', 'IE', 'ku', 'IE', 'ku', 'UbEB', 'Kmu', 'UbEB', 'IE', 'ku', 'IE', 'ku', 'UbEB', 'IE', 'ku', 'IE', 'ku', 'UbEB', 'Kmu', 'UbEB', 'IE', 'ku', 'IE', 'ku', 'UbEB', 'IE', 'ku', 'IE', 'ku', 'UbEB', 'Kmu', 'UbEB', 'kur', 'UbE', 'IE', 'ku', 'IE', 'ku', 'UbEB', 'IE', 'ku', 'IE', 'ku', 'UbEB', 'Kmu', 'UbEB', 'IE', 'ku', 'IE', 'ku', 'UbEB', 'IE', 'ku', 'IE', 'ku', 'UbEB', 'Kmu', 'UbEB', 'IE', 'ku', 'IE', 'ku', 'UbEB', 'IE', 'ku', 'IE', 'ku', 'UbEB', 'Kmu', 'UbEB', 'IE', 'ku', 'IE', 'ku', 'UbEB', 'IE', 'ku', 'IE', 'ku', 'UbEB', 'Kmu', 'UbEB', 'kur', 'UbE', 'Kmur', 'UbE', 'IE', 'ku', 'IE', 'ku', 'UbEB', 'IE', 'ku', 'IE', 'ku', 'UbEB', 'Kmu', 'UbEB', 'IE', 'ku', 'IE', 'ku', 'UbEB', 'IE', 'ku', 'IE', 'ku', 'UbEB', 'Kmu', 'UbEB', 'IE', 'ku', 'IE', 'ku', 'UbEB', 'IE', 'ku', 'IE', 'ku', 'UbEB', 'Kmu', 'UbEB', 'IE', 'ku', 'IE', 'ku', 'UbEB', 'IE', 'ku', 'IE', 'ku', 'UbEB', 'Kmu', 'UbEB', 'kur', 'UbE', 'IE', 'ku', 'IE', 'ku', 'UbEB', 'IE', 'ku', 'IE', 'ku', 'UbEB', 'Kmu', 'UbEB', 'IE', 'ku', 'IE', 'ku', 'UbEB', 'IE', 'ku', 'IE', 'ku', 'UbEB', 'Kmu', 'UbEB', 'IE', 'ku', 'IE', 'ku', 'UbEB', 'IE', 'ku', 'IE', 'ku', 'UbEB', 'Kmu', 'UbEB', 'IE', 'ku', 'IE', 'ku', 'UbEB', 'IE', 'ku', 'IE', 'ku', 'UbEB', 'Kmu', 'UbEB', 'kur', 'UbE', 'Kmur', 'UbE']\n",
      "UbE2_Reaction: ['ku2', 'MPF', 'ku2', 'MPF', 'UbE2B', 'ku2', 'MPF', 'ku2', 'MPF', 'UbE2B', 'Kmu2', 'UbE2B', 'ku2', 'MPF', 'ku2', 'MPF', 'UbE2B', 'ku2', 'MPF', 'ku2', 'MPF', 'UbE2B', 'Kmu2', 'UbE2B', 'ku2', 'MPF', 'ku2', 'MPF', 'UbE2B', 'ku2', 'MPF', 'ku2', 'MPF', 'UbE2B', 'Kmu2', 'UbE2B', 'ku2', 'MPF', 'ku2', 'MPF', 'UbE2B', 'ku2', 'MPF', 'ku2', 'MPF', 'UbE2B', 'Kmu2', 'UbE2B', 'kur2', 'UbE2', 'ku2', 'MPF', 'ku2', 'MPF', 'UbE2B', 'ku2', 'MPF', 'ku2', 'MPF', 'UbE2B', 'Kmu2', 'UbE2B', 'ku2', 'MPF', 'ku2', 'MPF', 'UbE2B', 'ku2', 'MPF', 'ku2', 'MPF', 'UbE2B', 'Kmu2', 'UbE2B', 'ku2', 'MPF', 'ku2', 'MPF', 'UbE2B', 'ku2', 'MPF', 'ku2', 'MPF', 'UbE2B', 'Kmu2', 'UbE2B', 'ku2', 'MPF', 'ku2', 'MPF', 'UbE2B', 'ku2', 'MPF', 'ku2', 'MPF', 'UbE2B', 'Kmu2', 'UbE2B', 'kur2', 'UbE2', 'Kmur2', 'UbE2', 'ku2', 'MPF', 'ku2', 'MPF', 'UbE2B', 'ku2', 'MPF', 'ku2', 'MPF', 'UbE2B', 'Kmu2', 'UbE2B', 'ku2', 'MPF', 'ku2', 'MPF', 'UbE2B', 'ku2', 'MPF', 'ku2', 'MPF', 'UbE2B', 'Kmu2', 'UbE2B', 'ku2', 'MPF', 'ku2', 'MPF', 'UbE2B', 'ku2', 'MPF', 'ku2', 'MPF', 'UbE2B', 'Kmu2', 'UbE2B', 'ku2', 'MPF', 'ku2', 'MPF', 'UbE2B', 'ku2', 'MPF', 'ku2', 'MPF', 'UbE2B', 'Kmu2', 'UbE2B', 'kur2', 'UbE2', 'ku2', 'MPF', 'ku2', 'MPF', 'UbE2B', 'ku2', 'MPF', 'ku2', 'MPF', 'UbE2B', 'Kmu2', 'UbE2B', 'ku2', 'MPF', 'ku2', 'MPF', 'UbE2B', 'ku2', 'MPF', 'ku2', 'MPF', 'UbE2B', 'Kmu2', 'UbE2B', 'ku2', 'MPF', 'ku2', 'MPF', 'UbE2B', 'ku2', 'MPF', 'ku2', 'MPF', 'UbE2B', 'Kmu2', 'UbE2B', 'ku2', 'MPF', 'ku2', 'MPF', 'UbE2B', 'ku2', 'MPF', 'ku2', 'MPF', 'UbE2B', 'Kmu2', 'UbE2B', 'kur2', 'UbE2', 'Kmur2', 'UbE2', 'ku2', 'MPF', 'ku2', 'MPF', 'UbE2B', 'ku2', 'MPF', 'ku2', 'MPF', 'UbE2B', 'Kmu2', 'UbE2B', 'ku2', 'MPF', 'ku2', 'MPF', 'UbE2B', 'ku2', 'MPF', 'ku2', 'MPF', 'UbE2B', 'Kmu2', 'UbE2B', 'ku2', 'MPF', 'ku2', 'MPF', 'UbE2B', 'ku2', 'MPF', 'ku2', 'MPF', 'UbE2B', 'Kmu2', 'UbE2B', 'ku2', 'MPF', 'ku2', 'MPF', 'UbE2B', 'ku2', 'MPF', 'ku2', 'MPF', 'UbE2B', 'Kmu2', 'UbE2B', 'kur2', 'UbE2', 'ku2', 'MPF', 'ku2', 'MPF', 'UbE2B', 'ku2', 'MPF', 'ku2', 'MPF', 'UbE2B', 'Kmu2', 'UbE2B', 'ku2', 'MPF', 'ku2', 'MPF', 'UbE2B', 'ku2', 'MPF', 'ku2', 'MPF', 'UbE2B', 'Kmu2', 'UbE2B', 'ku2', 'MPF', 'ku2', 'MPF', 'UbE2B', 'ku2', 'MPF', 'ku2', 'MPF', 'UbE2B', 'Kmu2', 'UbE2B', 'ku2', 'MPF', 'ku2', 'MPF', 'UbE2B', 'ku2', 'MPF', 'ku2', 'MPF', 'UbE2B', 'Kmu2', 'UbE2B', 'kur2', 'UbE2', 'Kmur2', 'UbE2', 'ku2', 'MPF', 'ku2', 'MPF', 'UbE2B', 'ku2', 'MPF', 'ku2', 'MPF', 'UbE2B', 'Kmu2', 'UbE2B', 'ku2', 'MPF', 'ku2', 'MPF', 'UbE2B', 'ku2', 'MPF', 'ku2', 'MPF', 'UbE2B', 'Kmu2', 'UbE2B', 'ku2', 'MPF', 'ku2', 'MPF', 'UbE2B', 'ku2', 'MPF', 'ku2', 'MPF', 'UbE2B', 'Kmu2', 'UbE2B', 'ku2', 'MPF', 'ku2', 'MPF', 'UbE2B', 'ku2', 'MPF', 'ku2', 'MPF', 'UbE2B', 'Kmu2', 'UbE2B', 'kur2', 'UbE2', 'ku2', 'MPF', 'ku2', 'MPF', 'UbE2B', 'ku2', 'MPF', 'ku2', 'MPF', 'UbE2B', 'Kmu2', 'UbE2B', 'ku2', 'MPF', 'ku2', 'MPF', 'UbE2B', 'ku2', 'MPF', 'ku2', 'MPF', 'UbE2B', 'Kmu2', 'UbE2B', 'ku2', 'MPF', 'ku2', 'MPF', 'UbE2B', 'ku2', 'MPF', 'ku2', 'MPF', 'UbE2B', 'Kmu2', 'UbE2B', 'ku2', 'MPF', 'ku2', 'MPF', 'UbE2B', 'ku2', 'MPF', 'ku2', 'MPF', 'UbE2B', 'Kmu2', 'UbE2B', 'kur2', 'UbE2', 'Kmur2', 'UbE2']\n",
      "Wee1_Reaction: ['kwr', 'Wee1B', 'kwr', 'Wee1B', 'Kmwr', 'Wee1B', 'kwr', 'Wee1B', 'kwr', 'Wee1B', 'Kmwr', 'Wee1B', 'kwr', 'Wee1B', 'kwr', 'Wee1B', 'Kmwr', 'Wee1B', 'kwr', 'Wee1B', 'kwr', 'Wee1B', 'Kmwr', 'Wee1B', 'kw', 'MPF', 'kwr', 'Wee1B', 'kwr', 'Wee1B', 'Kmwr', 'Wee1B', 'kwr', 'Wee1B', 'kwr', 'Wee1B', 'Kmwr', 'Wee1B', 'kwr', 'Wee1B', 'kwr', 'Wee1B', 'Kmwr', 'Wee1B', 'kwr', 'Wee1B', 'kwr', 'Wee1B', 'Kmwr', 'Wee1B', 'kw', 'MPF', 'Wee1', 'kwr', 'Wee1B', 'kwr', 'Wee1B', 'Kmwr', 'Wee1B', 'kwr', 'Wee1B', 'kwr', 'Wee1B', 'Kmwr', 'Wee1B', 'kwr', 'Wee1B', 'kwr', 'Wee1B', 'Kmwr', 'Wee1B', 'kwr', 'Wee1B', 'kwr', 'Wee1B', 'Kmwr', 'Wee1B', 'kw', 'MPF', 'kwr', 'Wee1B', 'kwr', 'Wee1B', 'Kmwr', 'Wee1B', 'kwr', 'Wee1B', 'kwr', 'Wee1B', 'Kmwr', 'Wee1B', 'kwr', 'Wee1B', 'kwr', 'Wee1B', 'Kmwr', 'Wee1B', 'kwr', 'Wee1B', 'kwr', 'Wee1B', 'Kmwr', 'Wee1B', 'kw', 'MPF', 'Wee1', 'Kmw', 'Wee1', 'kwr', 'Wee1B', 'kwr', 'Wee1B', 'Kmwr', 'Wee1B', 'kwr', 'Wee1B', 'kwr', 'Wee1B', 'Kmwr', 'Wee1B', 'kwr', 'Wee1B', 'kwr', 'Wee1B', 'Kmwr', 'Wee1B', 'kwr', 'Wee1B', 'kwr', 'Wee1B', 'Kmwr', 'Wee1B', 'kw', 'MPF', 'kwr', 'Wee1B', 'kwr', 'Wee1B', 'Kmwr', 'Wee1B', 'kwr', 'Wee1B', 'kwr', 'Wee1B', 'Kmwr', 'Wee1B', 'kwr', 'Wee1B', 'kwr', 'Wee1B', 'Kmwr', 'Wee1B', 'kwr', 'Wee1B', 'kwr', 'Wee1B', 'Kmwr', 'Wee1B', 'kw', 'MPF', 'Wee1', 'kwr', 'Wee1B', 'kwr', 'Wee1B', 'Kmwr', 'Wee1B', 'kwr', 'Wee1B', 'kwr', 'Wee1B', 'Kmwr', 'Wee1B', 'kwr', 'Wee1B', 'kwr', 'Wee1B', 'Kmwr', 'Wee1B', 'kwr', 'Wee1B', 'kwr', 'Wee1B', 'Kmwr', 'Wee1B', 'kw', 'MPF', 'kwr', 'Wee1B', 'kwr', 'Wee1B', 'Kmwr', 'Wee1B', 'kwr', 'Wee1B', 'kwr', 'Wee1B', 'Kmwr', 'Wee1B', 'kwr', 'Wee1B', 'kwr', 'Wee1B', 'Kmwr', 'Wee1B', 'kwr', 'Wee1B', 'kwr', 'Wee1B', 'Kmwr', 'Wee1B', 'kw', 'MPF', 'Wee1', 'Kmw', 'Wee1', 'kwr', 'Wee1B', 'kwr', 'Wee1B', 'Kmwr', 'Wee1B', 'kwr', 'Wee1B', 'kwr', 'Wee1B', 'Kmwr', 'Wee1B', 'kwr', 'Wee1B', 'kwr', 'Wee1B', 'Kmwr', 'Wee1B', 'kwr', 'Wee1B', 'kwr', 'Wee1B', 'Kmwr', 'Wee1B', 'kw', 'MPF', 'kwr', 'Wee1B', 'kwr', 'Wee1B', 'Kmwr', 'Wee1B', 'kwr', 'Wee1B', 'kwr', 'Wee1B', 'Kmwr', 'Wee1B', 'kwr', 'Wee1B', 'kwr', 'Wee1B', 'Kmwr', 'Wee1B', 'kwr', 'Wee1B', 'kwr', 'Wee1B', 'Kmwr', 'Wee1B', 'kw', 'MPF', 'Wee1', 'kwr', 'Wee1B', 'kwr', 'Wee1B', 'Kmwr', 'Wee1B', 'kwr', 'Wee1B', 'kwr', 'Wee1B', 'Kmwr', 'Wee1B', 'kwr', 'Wee1B', 'kwr', 'Wee1B', 'Kmwr', 'Wee1B', 'kwr', 'Wee1B', 'kwr', 'Wee1B', 'Kmwr', 'Wee1B', 'kw', 'MPF', 'kwr', 'Wee1B', 'kwr', 'Wee1B', 'Kmwr', 'Wee1B', 'kwr', 'Wee1B', 'kwr', 'Wee1B', 'Kmwr', 'Wee1B', 'kwr', 'Wee1B', 'kwr', 'Wee1B', 'Kmwr', 'Wee1B', 'kwr', 'Wee1B', 'kwr', 'Wee1B', 'Kmwr', 'Wee1B', 'kw', 'MPF', 'Wee1', 'Kmw', 'Wee1', 'kwr', 'Wee1B', 'kwr', 'Wee1B', 'Kmwr', 'Wee1B', 'kwr', 'Wee1B', 'kwr', 'Wee1B', 'Kmwr', 'Wee1B', 'kwr', 'Wee1B', 'kwr', 'Wee1B', 'Kmwr', 'Wee1B', 'kwr', 'Wee1B', 'kwr', 'Wee1B', 'Kmwr', 'Wee1B', 'kw', 'MPF', 'kwr', 'Wee1B', 'kwr', 'Wee1B', 'Kmwr', 'Wee1B', 'kwr', 'Wee1B', 'kwr', 'Wee1B', 'Kmwr', 'Wee1B', 'kwr', 'Wee1B', 'kwr', 'Wee1B', 'Kmwr', 'Wee1B', 'kwr', 'Wee1B', 'kwr', 'Wee1B', 'Kmwr', 'Wee1B', 'kw', 'MPF', 'Wee1', 'kwr', 'Wee1B', 'kwr', 'Wee1B', 'Kmwr', 'Wee1B', 'kwr', 'Wee1B', 'kwr', 'Wee1B', 'Kmwr', 'Wee1B', 'kwr', 'Wee1B', 'kwr', 'Wee1B', 'Kmwr', 'Wee1B', 'kwr', 'Wee1B', 'kwr', 'Wee1B', 'Kmwr', 'Wee1B', 'kw', 'MPF', 'kwr', 'Wee1B', 'kwr', 'Wee1B', 'Kmwr', 'Wee1B', 'kwr', 'Wee1B', 'kwr', 'Wee1B', 'Kmwr', 'Wee1B', 'kwr', 'Wee1B', 'kwr', 'Wee1B', 'Kmwr', 'Wee1B', 'kwr', 'Wee1B', 'kwr', 'Wee1B', 'Kmwr', 'Wee1B', 'kw', 'MPF', 'Wee1', 'Kmw', 'Wee1']\n",
      "Cdc25_Reaction: ['Cdc25B', 'kc', 'Cdc25B', 'kc', 'MPF', 'Cdc25B', 'kc', 'Cdc25B', 'kc', 'MPF', 'Cdc25B', 'Kmc', 'Cdc25B', 'kc', 'Cdc25B', 'kc', 'MPF', 'Cdc25B', 'kc', 'Cdc25B', 'kc', 'MPF', 'Cdc25B', 'Kmc', 'Cdc25B', 'kc', 'Cdc25B', 'kc', 'MPF', 'Cdc25B', 'kc', 'Cdc25B', 'kc', 'MPF', 'Cdc25B', 'Kmc', 'Cdc25B', 'kc', 'Cdc25B', 'kc', 'MPF', 'Cdc25B', 'kc', 'Cdc25B', 'kc', 'MPF', 'Cdc25B', 'Kmc', 'Cdc25', 'kcr', 'Cdc25B', 'kc', 'Cdc25B', 'kc', 'MPF', 'Cdc25B', 'kc', 'Cdc25B', 'kc', 'MPF', 'Cdc25B', 'Kmc', 'Cdc25B', 'kc', 'Cdc25B', 'kc', 'MPF', 'Cdc25B', 'kc', 'Cdc25B', 'kc', 'MPF', 'Cdc25B', 'Kmc', 'Cdc25B', 'kc', 'Cdc25B', 'kc', 'MPF', 'Cdc25B', 'kc', 'Cdc25B', 'kc', 'MPF', 'Cdc25B', 'Kmc', 'Cdc25B', 'kc', 'Cdc25B', 'kc', 'MPF', 'Cdc25B', 'kc', 'Cdc25B', 'kc', 'MPF', 'Cdc25B', 'Kmc', 'Cdc25', 'kcr', 'Cdc25', 'Kmcr', 'Cdc25B', 'kc', 'Cdc25B', 'kc', 'MPF', 'Cdc25B', 'kc', 'Cdc25B', 'kc', 'MPF', 'Cdc25B', 'Kmc', 'Cdc25B', 'kc', 'Cdc25B', 'kc', 'MPF', 'Cdc25B', 'kc', 'Cdc25B', 'kc', 'MPF', 'Cdc25B', 'Kmc', 'Cdc25B', 'kc', 'Cdc25B', 'kc', 'MPF', 'Cdc25B', 'kc', 'Cdc25B', 'kc', 'MPF', 'Cdc25B', 'Kmc', 'Cdc25B', 'kc', 'Cdc25B', 'kc', 'MPF', 'Cdc25B', 'kc', 'Cdc25B', 'kc', 'MPF', 'Cdc25B', 'Kmc', 'Cdc25', 'kcr', 'Cdc25B', 'kc', 'Cdc25B', 'kc', 'MPF', 'Cdc25B', 'kc', 'Cdc25B', 'kc', 'MPF', 'Cdc25B', 'Kmc', 'Cdc25B', 'kc', 'Cdc25B', 'kc', 'MPF', 'Cdc25B', 'kc', 'Cdc25B', 'kc', 'MPF', 'Cdc25B', 'Kmc', 'Cdc25B', 'kc', 'Cdc25B', 'kc', 'MPF', 'Cdc25B', 'kc', 'Cdc25B', 'kc', 'MPF', 'Cdc25B', 'Kmc', 'Cdc25B', 'kc', 'Cdc25B', 'kc', 'MPF', 'Cdc25B', 'kc', 'Cdc25B', 'kc', 'MPF', 'Cdc25B', 'Kmc', 'Cdc25', 'kcr', 'Cdc25', 'Kmcr', 'Cdc25B', 'kc', 'Cdc25B', 'kc', 'MPF', 'Cdc25B', 'kc', 'Cdc25B', 'kc', 'MPF', 'Cdc25B', 'Kmc', 'Cdc25B', 'kc', 'Cdc25B', 'kc', 'MPF', 'Cdc25B', 'kc', 'Cdc25B', 'kc', 'MPF', 'Cdc25B', 'Kmc', 'Cdc25B', 'kc', 'Cdc25B', 'kc', 'MPF', 'Cdc25B', 'kc', 'Cdc25B', 'kc', 'MPF', 'Cdc25B', 'Kmc', 'Cdc25B', 'kc', 'Cdc25B', 'kc', 'MPF', 'Cdc25B', 'kc', 'Cdc25B', 'kc', 'MPF', 'Cdc25B', 'Kmc', 'Cdc25', 'kcr', 'Cdc25B', 'kc', 'Cdc25B', 'kc', 'MPF', 'Cdc25B', 'kc', 'Cdc25B', 'kc', 'MPF', 'Cdc25B', 'Kmc', 'Cdc25B', 'kc', 'Cdc25B', 'kc', 'MPF', 'Cdc25B', 'kc', 'Cdc25B', 'kc', 'MPF', 'Cdc25B', 'Kmc', 'Cdc25B', 'kc', 'Cdc25B', 'kc', 'MPF', 'Cdc25B', 'kc', 'Cdc25B', 'kc', 'MPF', 'Cdc25B', 'Kmc', 'Cdc25B', 'kc', 'Cdc25B', 'kc', 'MPF', 'Cdc25B', 'kc', 'Cdc25B', 'kc', 'MPF', 'Cdc25B', 'Kmc', 'Cdc25', 'kcr', 'Cdc25', 'Kmcr', 'Cdc25B', 'kc', 'Cdc25B', 'kc', 'MPF', 'Cdc25B', 'kc', 'Cdc25B', 'kc', 'MPF', 'Cdc25B', 'Kmc', 'Cdc25B', 'kc', 'Cdc25B', 'kc', 'MPF', 'Cdc25B', 'kc', 'Cdc25B', 'kc', 'MPF', 'Cdc25B', 'Kmc', 'Cdc25B', 'kc', 'Cdc25B', 'kc', 'MPF', 'Cdc25B', 'kc', 'Cdc25B', 'kc', 'MPF', 'Cdc25B', 'Kmc', 'Cdc25B', 'kc', 'Cdc25B', 'kc', 'MPF', 'Cdc25B', 'kc', 'Cdc25B', 'kc', 'MPF', 'Cdc25B', 'Kmc', 'Cdc25', 'kcr', 'Cdc25B', 'kc', 'Cdc25B', 'kc', 'MPF', 'Cdc25B', 'kc', 'Cdc25B', 'kc', 'MPF', 'Cdc25B', 'Kmc', 'Cdc25B', 'kc', 'Cdc25B', 'kc', 'MPF', 'Cdc25B', 'kc', 'Cdc25B', 'kc', 'MPF', 'Cdc25B', 'Kmc', 'Cdc25B', 'kc', 'Cdc25B', 'kc', 'MPF', 'Cdc25B', 'kc', 'Cdc25B', 'kc', 'MPF', 'Cdc25B', 'Kmc', 'Cdc25B', 'kc', 'Cdc25B', 'kc', 'MPF', 'Cdc25B', 'kc', 'Cdc25B', 'kc', 'MPF', 'Cdc25B', 'Kmc', 'Cdc25', 'kcr', 'Cdc25', 'Kmcr']\n",
      "reaction1: []\n",
      "reaction2: ['C', 'k1', 'C', 'k1', 'X', 'C', 'k1', 'C', 'k1', 'X', 'power']\n",
      "reaction3: ['C', 'kd']\n",
      "reaction4: ['M', 'M', 'M', 'M', 'V1', 'M', 'M', 'M', 'M', 'V1', 'power']\n",
      "reaction5: ['M', 'V2', 'M', 'V2', 'power']\n",
      "reaction6: ['V3', 'V3', 'V3', 'V3', 'X', 'V3', 'V3', 'V3', 'V3', 'X', 'V3', 'V3', 'V3', 'V3', 'X', 'V3', 'V3', 'V3', 'V3', 'X', 'V3', 'V3', 'V3', 'V3', 'X', 'V3', 'V3', 'V3', 'V3', 'X', 'V3', 'V3', 'V3', 'V3', 'X', 'V3', 'V3', 'V3', 'V3', 'X', 'power']\n",
      "reaction7: ['V4', 'X', 'V4', 'X', 'power']\n",
      "reaction8: ['a1', 'C', 'a1', 'C', 'Y']\n",
      "reaction9: ['a2', 'Z']\n",
      "reaction10: ['alpha', 'd1', 'alpha', 'd1', 'Z']\n",
      "reaction11: ['alpha', 'kd', 'alpha', 'kd', 'Z']\n",
      "reaction12: []\n",
      "reaction13: ['d1', 'Y']\n",
      "r1a: ['compartment', 'a1', 'E1', 'compartment', 'a1', 'E1', 'KKK', 'compartment', 'a1', 'E1', 'compartment', 'a1', 'E1', 'KKK', 'd1', 'E1_KKK', 'compartment', 'a1', 'E1', 'compartment', 'a1', 'E1', 'KKK', 'compartment', 'a1', 'E1', 'compartment', 'a1', 'E1', 'KKK', 'd1', 'E1_KKK', 'compartment', 'a1', 'E1', 'compartment', 'a1', 'E1', 'KKK', 'compartment', 'a1', 'E1', 'compartment', 'a1', 'E1', 'KKK', 'd1', 'E1_KKK', 'compartment', 'a1', 'E1', 'compartment', 'a1', 'E1', 'KKK', 'compartment', 'a1', 'E1', 'compartment', 'a1', 'E1', 'KKK', 'd1', 'E1_KKK']\n",
      "r1b: ['compartment', 'k2', 'compartment', 'k2', 'E1_KKK']\n",
      "r2a: ['compartment', 'a2', 'E2', 'compartment', 'a2', 'E2', 'P_KKK', 'compartment', 'a2', 'E2', 'compartment', 'a2', 'E2', 'P_KKK', 'd2', 'E2_P_KKK', 'compartment', 'a2', 'E2', 'compartment', 'a2', 'E2', 'P_KKK', 'compartment', 'a2', 'E2', 'compartment', 'a2', 'E2', 'P_KKK', 'd2', 'E2_P_KKK', 'compartment', 'a2', 'E2', 'compartment', 'a2', 'E2', 'P_KKK', 'compartment', 'a2', 'E2', 'compartment', 'a2', 'E2', 'P_KKK', 'd2', 'E2_P_KKK', 'compartment', 'a2', 'E2', 'compartment', 'a2', 'E2', 'P_KKK', 'compartment', 'a2', 'E2', 'compartment', 'a2', 'E2', 'P_KKK', 'd2', 'E2_P_KKK']\n",
      "r2b: ['compartment', 'k2', 'compartment', 'k2', 'E2_P_KKK']\n",
      "r3a: ['compartment', 'a3', 'KK', 'compartment', 'a3', 'KK', 'P_KKK', 'compartment', 'a3', 'KK', 'compartment', 'a3', 'KK', 'P_KKK', 'd3', 'P_KKK_KK', 'compartment', 'a3', 'KK', 'compartment', 'a3', 'KK', 'P_KKK', 'compartment', 'a3', 'KK', 'compartment', 'a3', 'KK', 'P_KKK', 'd3', 'P_KKK_KK', 'compartment', 'a3', 'KK', 'compartment', 'a3', 'KK', 'P_KKK', 'compartment', 'a3', 'KK', 'compartment', 'a3', 'KK', 'P_KKK', 'd3', 'P_KKK_KK', 'compartment', 'a3', 'KK', 'compartment', 'a3', 'KK', 'P_KKK', 'compartment', 'a3', 'KK', 'compartment', 'a3', 'KK', 'P_KKK', 'd3', 'P_KKK_KK']\n",
      "r3b: ['compartment', 'k3', 'compartment', 'k3', 'P_KKK_KK']\n",
      "r4a: ['compartment', 'a4', 'P_KK', 'compartment', 'a4', 'P_KK', 'KKPase', 'compartment', 'a4', 'P_KK', 'compartment', 'a4', 'P_KK', 'KKPase', 'd4', 'KKPase_P_KK', 'compartment', 'a4', 'P_KK', 'compartment', 'a4', 'P_KK', 'KKPase', 'compartment', 'a4', 'P_KK', 'compartment', 'a4', 'P_KK', 'KKPase', 'd4', 'KKPase_P_KK', 'compartment', 'a4', 'P_KK', 'compartment', 'a4', 'P_KK', 'KKPase', 'compartment', 'a4', 'P_KK', 'compartment', 'a4', 'P_KK', 'KKPase', 'd4', 'KKPase_P_KK', 'compartment', 'a4', 'P_KK', 'compartment', 'a4', 'P_KK', 'KKPase', 'compartment', 'a4', 'P_KK', 'compartment', 'a4', 'P_KK', 'KKPase', 'd4', 'KKPase_P_KK']\n",
      "r4b: ['compartment', 'k4', 'compartment', 'k4', 'KKPase_P_KK']\n",
      "r5a: ['compartment', 'a5', 'P_KK', 'compartment', 'a5', 'P_KK', 'P_KKK', 'compartment', 'a5', 'P_KK', 'compartment', 'a5', 'P_KK', 'P_KKK', 'd5', 'P_KKK_P_KK', 'compartment', 'a5', 'P_KK', 'compartment', 'a5', 'P_KK', 'P_KKK', 'compartment', 'a5', 'P_KK', 'compartment', 'a5', 'P_KK', 'P_KKK', 'd5', 'P_KKK_P_KK', 'compartment', 'a5', 'P_KK', 'compartment', 'a5', 'P_KK', 'P_KKK', 'compartment', 'a5', 'P_KK', 'compartment', 'a5', 'P_KK', 'P_KKK', 'd5', 'P_KKK_P_KK', 'compartment', 'a5', 'P_KK', 'compartment', 'a5', 'P_KK', 'P_KKK', 'compartment', 'a5', 'P_KK', 'compartment', 'a5', 'P_KK', 'P_KKK', 'd5', 'P_KKK_P_KK']\n",
      "r5b: ['compartment', 'k5', 'compartment', 'k5', 'P_KKK_P_KK']\n",
      "r6a: ['compartment', 'a6', 'PP_KK', 'compartment', 'a6', 'PP_KK', 'KKPase', 'compartment', 'a6', 'PP_KK', 'compartment', 'a6', 'PP_KK', 'KKPase', 'd6', 'KKPase_PP_KK', 'compartment', 'a6', 'PP_KK', 'compartment', 'a6', 'PP_KK', 'KKPase', 'compartment', 'a6', 'PP_KK', 'compartment', 'a6', 'PP_KK', 'KKPase', 'd6', 'KKPase_PP_KK', 'compartment', 'a6', 'PP_KK', 'compartment', 'a6', 'PP_KK', 'KKPase', 'compartment', 'a6', 'PP_KK', 'compartment', 'a6', 'PP_KK', 'KKPase', 'd6', 'KKPase_PP_KK', 'compartment', 'a6', 'PP_KK', 'compartment', 'a6', 'PP_KK', 'KKPase', 'compartment', 'a6', 'PP_KK', 'compartment', 'a6', 'PP_KK', 'KKPase', 'd6', 'KKPase_PP_KK']\n",
      "r6b: ['compartment', 'k6', 'compartment', 'k6', 'KKPase_PP_KK']\n",
      "r7a: ['compartment', 'a7', 'K', 'compartment', 'a7', 'K', 'PP_KK', 'compartment', 'a7', 'K', 'compartment', 'a7', 'K', 'PP_KK', 'd7', 'PP_KK_K', 'compartment', 'a7', 'K', 'compartment', 'a7', 'K', 'PP_KK', 'compartment', 'a7', 'K', 'compartment', 'a7', 'K', 'PP_KK', 'd7', 'PP_KK_K', 'compartment', 'a7', 'K', 'compartment', 'a7', 'K', 'PP_KK', 'compartment', 'a7', 'K', 'compartment', 'a7', 'K', 'PP_KK', 'd7', 'PP_KK_K', 'compartment', 'a7', 'K', 'compartment', 'a7', 'K', 'PP_KK', 'compartment', 'a7', 'K', 'compartment', 'a7', 'K', 'PP_KK', 'd7', 'PP_KK_K']\n",
      "r7b: ['compartment', 'k7', 'compartment', 'k7', 'PP_KK_K']\n",
      "r8a: ['compartment', 'a8', 'P_K', 'compartment', 'a8', 'P_K', 'KPase', 'compartment', 'a8', 'P_K', 'compartment', 'a8', 'P_K', 'KPase', 'd8', 'KPase_P_K', 'compartment', 'a8', 'P_K', 'compartment', 'a8', 'P_K', 'KPase', 'compartment', 'a8', 'P_K', 'compartment', 'a8', 'P_K', 'KPase', 'd8', 'KPase_P_K', 'compartment', 'a8', 'P_K', 'compartment', 'a8', 'P_K', 'KPase', 'compartment', 'a8', 'P_K', 'compartment', 'a8', 'P_K', 'KPase', 'd8', 'KPase_P_K', 'compartment', 'a8', 'P_K', 'compartment', 'a8', 'P_K', 'KPase', 'compartment', 'a8', 'P_K', 'compartment', 'a8', 'P_K', 'KPase', 'd8', 'KPase_P_K']\n",
      "r8b: ['compartment', 'k8', 'compartment', 'k8', 'KPase_P_K']\n",
      "r9a: ['compartment', 'a9', 'P_K', 'compartment', 'a9', 'P_K', 'PP_KK', 'compartment', 'a9', 'P_K', 'compartment', 'a9', 'P_K', 'PP_KK', 'd9', 'PP_KK_P_K', 'compartment', 'a9', 'P_K', 'compartment', 'a9', 'P_K', 'PP_KK', 'compartment', 'a9', 'P_K', 'compartment', 'a9', 'P_K', 'PP_KK', 'd9', 'PP_KK_P_K', 'compartment', 'a9', 'P_K', 'compartment', 'a9', 'P_K', 'PP_KK', 'compartment', 'a9', 'P_K', 'compartment', 'a9', 'P_K', 'PP_KK', 'd9', 'PP_KK_P_K', 'compartment', 'a9', 'P_K', 'compartment', 'a9', 'P_K', 'PP_KK', 'compartment', 'a9', 'P_K', 'compartment', 'a9', 'P_K', 'PP_KK', 'd9', 'PP_KK_P_K']\n",
      "r9b: ['compartment', 'k9', 'compartment', 'k9', 'PP_KK_P_K']\n",
      "r10a: ['compartment', 'a10', 'PP_K', 'compartment', 'a10', 'PP_K', 'KPase', 'compartment', 'a10', 'PP_K', 'compartment', 'a10', 'PP_K', 'KPase', 'd10', 'KPase_PP_K', 'compartment', 'a10', 'PP_K', 'compartment', 'a10', 'PP_K', 'KPase', 'compartment', 'a10', 'PP_K', 'compartment', 'a10', 'PP_K', 'KPase', 'd10', 'KPase_PP_K', 'compartment', 'a10', 'PP_K', 'compartment', 'a10', 'PP_K', 'KPase', 'compartment', 'a10', 'PP_K', 'compartment', 'a10', 'PP_K', 'KPase', 'd10', 'KPase_PP_K', 'compartment', 'a10', 'PP_K', 'compartment', 'a10', 'PP_K', 'KPase', 'compartment', 'a10', 'PP_K', 'compartment', 'a10', 'PP_K', 'KPase', 'd10', 'KPase_PP_K']\n",
      "r10b: ['compartment', 'k10', 'compartment', 'k10', 'KPase_PP_K']\n",
      "J0: ['uVol', 'V1', 'uVol', 'V1', 'MKKK', 'uVol', 'V1', 'uVol', 'V1', 'MKKK', 'uVol', 'V1', 'uVol', 'V1', 'MKKK', 'uVol', 'V1', 'uVol', 'V1', 'MKKK', 'power', 'uVol', 'V1', 'uVol', 'V1', 'MKKK', 'uVol', 'V1', 'uVol', 'V1', 'MKKK', 'uVol', 'V1', 'uVol', 'V1', 'MKKK', 'uVol', 'V1', 'uVol', 'V1', 'MKKK', 'power', 'K1', 'MKKK', 'uVol', 'V1', 'uVol', 'V1', 'MKKK', 'uVol', 'V1', 'uVol', 'V1', 'MKKK', 'uVol', 'V1', 'uVol', 'V1', 'MKKK', 'uVol', 'V1', 'uVol', 'V1', 'MKKK', 'power', 'uVol', 'V1', 'uVol', 'V1', 'MKKK', 'uVol', 'V1', 'uVol', 'V1', 'MKKK', 'uVol', 'V1', 'uVol', 'V1', 'MKKK', 'uVol', 'V1', 'uVol', 'V1', 'MKKK', 'power', 'K1', 'MKKK', 'uVol', 'V1', 'uVol', 'V1', 'MKKK', 'uVol', 'V1', 'uVol', 'V1', 'MKKK', 'uVol', 'V1', 'uVol', 'V1', 'MKKK', 'uVol', 'V1', 'uVol', 'V1', 'MKKK', 'power', 'uVol', 'V1', 'uVol', 'V1', 'MKKK', 'uVol', 'V1', 'uVol', 'V1', 'MKKK', 'uVol', 'V1', 'uVol', 'V1', 'MKKK', 'uVol', 'V1', 'uVol', 'V1', 'MKKK', 'power', 'K1', 'MKKK', 'uVol', 'V1', 'uVol', 'V1', 'MKKK', 'uVol', 'V1', 'uVol', 'V1', 'MKKK', 'uVol', 'V1', 'uVol', 'V1', 'MKKK', 'uVol', 'V1', 'uVol', 'V1', 'MKKK', 'power', 'uVol', 'V1', 'uVol', 'V1', 'MKKK', 'uVol', 'V1', 'uVol', 'V1', 'MKKK', 'uVol', 'V1', 'uVol', 'V1', 'MKKK', 'uVol', 'V1', 'uVol', 'V1', 'MKKK', 'power', 'K1', 'MKKK']\n",
      "J1: ['uVol', 'V2', 'uVol', 'V2', 'MKKK_P', 'uVol', 'V2', 'uVol', 'V2', 'MKKK_P', 'KK2', 'MKKK_P', 'uVol', 'V2', 'uVol', 'V2', 'MKKK_P', 'uVol', 'V2', 'uVol', 'V2', 'MKKK_P', 'KK2', 'MKKK_P']\n",
      "J2: ['uVol', 'k3', 'uVol', 'k3', 'MKKK_P', 'uVol', 'k3', 'uVol', 'k3', 'MKKK_P', 'MKK', 'uVol', 'k3', 'uVol', 'k3', 'MKKK_P', 'uVol', 'k3', 'uVol', 'k3', 'MKKK_P', 'MKK', 'KK3', 'MKK', 'uVol', 'k3', 'uVol', 'k3', 'MKKK_P', 'uVol', 'k3', 'uVol', 'k3', 'MKKK_P', 'MKK', 'uVol', 'k3', 'uVol', 'k3', 'MKKK_P', 'uVol', 'k3', 'uVol', 'k3', 'MKKK_P', 'MKK', 'KK3', 'MKK']\n",
      "J3: ['uVol', 'k4', 'uVol', 'k4', 'MKKK_P', 'uVol', 'k4', 'uVol', 'k4', 'MKKK_P', 'MKK_P', 'uVol', 'k4', 'uVol', 'k4', 'MKKK_P', 'uVol', 'k4', 'uVol', 'k4', 'MKKK_P', 'MKK_P', 'KK4', 'MKK_P', 'uVol', 'k4', 'uVol', 'k4', 'MKKK_P', 'uVol', 'k4', 'uVol', 'k4', 'MKKK_P', 'MKK_P', 'uVol', 'k4', 'uVol', 'k4', 'MKKK_P', 'uVol', 'k4', 'uVol', 'k4', 'MKKK_P', 'MKK_P', 'KK4', 'MKK_P']\n",
      "J4: ['uVol', 'V5', 'uVol', 'V5', 'MKK_PP', 'uVol', 'V5', 'uVol', 'V5', 'MKK_PP', 'KK5', 'MKK_PP', 'uVol', 'V5', 'uVol', 'V5', 'MKK_PP', 'uVol', 'V5', 'uVol', 'V5', 'MKK_PP', 'KK5', 'MKK_PP']\n",
      "J5: ['uVol', 'V6', 'uVol', 'V6', 'MKK_P', 'uVol', 'V6', 'uVol', 'V6', 'MKK_P', 'KK6', 'MKK_P', 'uVol', 'V6', 'uVol', 'V6', 'MKK_P', 'uVol', 'V6', 'uVol', 'V6', 'MKK_P', 'KK6', 'MKK_P']\n",
      "J6: ['uVol', 'k7', 'uVol', 'k7', 'MKK_PP', 'uVol', 'k7', 'uVol', 'k7', 'MKK_PP', 'MAPK', 'uVol', 'k7', 'uVol', 'k7', 'MKK_PP', 'uVol', 'k7', 'uVol', 'k7', 'MKK_PP', 'MAPK', 'KK7', 'MAPK', 'uVol', 'k7', 'uVol', 'k7', 'MKK_PP', 'uVol', 'k7', 'uVol', 'k7', 'MKK_PP', 'MAPK', 'uVol', 'k7', 'uVol', 'k7', 'MKK_PP', 'uVol', 'k7', 'uVol', 'k7', 'MKK_PP', 'MAPK', 'KK7', 'MAPK']\n",
      "J7: ['uVol', 'k8', 'uVol', 'k8', 'MKK_PP', 'uVol', 'k8', 'uVol', 'k8', 'MKK_PP', 'MAPK_P', 'uVol', 'k8', 'uVol', 'k8', 'MKK_PP', 'uVol', 'k8', 'uVol', 'k8', 'MKK_PP', 'MAPK_P', 'KK8', 'MAPK_P', 'uVol', 'k8', 'uVol', 'k8', 'MKK_PP', 'uVol', 'k8', 'uVol', 'k8', 'MKK_PP', 'MAPK_P', 'uVol', 'k8', 'uVol', 'k8', 'MKK_PP', 'uVol', 'k8', 'uVol', 'k8', 'MKK_PP', 'MAPK_P', 'KK8', 'MAPK_P']\n",
      "J8: ['uVol', 'V9', 'uVol', 'V9', 'MAPK_PP', 'uVol', 'V9', 'uVol', 'V9', 'MAPK_PP', 'KK9', 'MAPK_PP', 'uVol', 'V9', 'uVol', 'V9', 'MAPK_PP', 'uVol', 'V9', 'uVol', 'V9', 'MAPK_PP', 'KK9', 'MAPK_PP']\n",
      "J9: ['uVol', 'V10', 'uVol', 'V10', 'MAPK_P', 'uVol', 'V10', 'uVol', 'V10', 'MAPK_P', 'KK10', 'MAPK_P', 'uVol', 'V10', 'uVol', 'V10', 'MAPK_P', 'uVol', 'V10', 'uVol', 'V10', 'MAPK_P', 'KK10', 'MAPK_P']\n"
     ]
    }
   ],
   "source": [
    "iterator = simple_sbml.modelIterator(final=10)\n",
    "for item in iterator:\n",
    "    model = item.model\n",
    "    for reaction in model.reactions:\n",
    "        print(\"%s: %s\" % (reaction.id, str(reaction.kinetic_law.symbols)))"
   ]
  },
  {
   "cell_type": "code",
   "execution_count": 5,
   "metadata": {},
   "outputs": [
    {
     "data": {
      "text/plain": [
       "src.common.reaction.Reaction"
      ]
     },
     "execution_count": 5,
     "metadata": {},
     "output_type": "execute_result"
    }
   ],
   "source": [
    "type(reaction)"
   ]
  },
  {
   "cell_type": "markdown",
   "metadata": {},
   "source": [
    "## Accessing Models in BioModels"
   ]
  },
  {
   "cell_type": "code",
   "execution_count": 6,
   "metadata": {},
   "outputs": [
    {
     "name": "stdout",
     "output_type": "stream",
     "text": [
      "File BIOMD0000000001.xml has 17 reactions.\n",
      "File BIOMD0000000002.xml has 17 reactions.\n",
      "File BIOMD0000000003.xml has 7 reactions.\n",
      "File BIOMD0000000004.xml has 7 reactions.\n",
      "File BIOMD0000000005.xml has 9 reactions.\n",
      "File BIOMD0000000006.xml has 3 reactions.\n",
      "File BIOMD0000000007.xml has 25 reactions.\n",
      "File BIOMD0000000008.xml has 13 reactions.\n",
      "File BIOMD0000000009.xml has 20 reactions.\n",
      "File BIOMD0000000010.xml has 10 reactions.\n"
     ]
    }
   ],
   "source": [
    "iterator = simple_sbml.modelIterator(final=10)\n",
    "for item in iterator:\n",
    "    print(\"File %s has %d reactions.\" % (item.filename, len(item.model.reactions)))"
   ]
  },
  {
   "cell_type": "markdown",
   "metadata": {},
   "source": [
    "## Checking for Undefined Values in Kinetics Expressions"
   ]
  },
  {
   "cell_type": "code",
   "execution_count": 7,
   "metadata": {},
   "outputs": [
    {
     "name": "stdout",
     "output_type": "stream",
     "text": [
      "k0 * x0\n",
      "k1c * T2pR\n",
      "k1c * T2R\n",
      "k2c * T3pR\n",
      "k2c * T3R\n",
      "k3c * LT2pR\n",
      "k3c * LT2R\n",
      "k4c * LT3pR\n",
      "k4c * LT3R\n",
      "k_1 * T3pR * Bp\n",
      "k_1 * T3R * Bp\n",
      "k_1 * T3p * Bp\n",
      "k_1 * T3 * Bp\n",
      "k_2 * T4pR * Bp\n",
      "k_2 * T4R * Bp\n",
      "k_2 * T4p * Bp\n",
      "k_2 * T4 * Bp\n",
      "k_3 * LT3pR * Bp\n",
      "k_3 * LT3R * Bp\n",
      "k_3 * LT3p * Bp\n",
      "k_3 * LT3 * Bp\n",
      "k_4 * LT4pR * Bp\n",
      "k_4 * LT4R * Bp\n",
      "k_4 * LT4p * Bp\n",
      "k_4 * LT4 * Bp\n",
      "k1a * LT2pR\n",
      "k1a * LT2R\n",
      "k1a * LT3pR\n",
      "k1a * LT3R\n",
      "k1a * LT4pR\n",
      "k1a * LT4R\n",
      "k1a * T2pR\n",
      "k1a * T2R\n",
      "k1a * T3pR\n",
      "k1a * T3R\n",
      "k1a * T4pR\n",
      "k1a * T4R\n",
      "k1b * LT2p * R\n",
      "k1b * LT2 * R\n",
      "k1b * LT3p * R\n",
      "k1b * LT3 * R\n",
      "k1b * LT4p * R\n",
      "k1b * LT4 * R\n",
      "k1b * T2p * R\n",
      "k1b * T2 * R\n",
      "k1b * T3p * R\n",
      "k1b * T3 * R\n",
      "k1b * T4p * R\n",
      "k1b * T4 * R\n",
      "k5 * L * T2pR\n",
      "k5 * L * T2R\n",
      "k5 * L * T2p\n",
      "k5 * L * T2\n",
      "k5 * L * T3pR\n",
      "k5 * L * T3R\n",
      "k5 * L * T3p\n",
      "k5 * L * T3\n",
      "k5 * L * T4pR\n",
      "k5 * L * T4R\n",
      "k5 * L * T4p\n",
      "k5 * L * T4\n",
      "k_5 * LT2pR\n",
      "k_5 * LT2R\n",
      "k_5 * LT2p\n",
      "k_5 * LT2\n",
      "k_5 * LT3pR\n",
      "k_5 * LT3R\n",
      "k_5 * LT3p\n",
      "k_5 * LT3\n",
      "k_5 * LT4pR\n",
      "k_5 * LT4R\n",
      "k_5 * LT4p\n",
      "k_5 * LT4\n",
      "k8 * T2R\n",
      "k8 * T2\n",
      "k9 * T3R\n",
      "k9 * T3\n",
      "k10 * T4R\n",
      "k10 * T4\n",
      "k11 * LT2R\n",
      "k11 * LT2\n",
      "k12 * LT3R\n",
      "k12 * LT3\n",
      "k13 * LT4R\n",
      "k13 * LT4\n",
      "kb * LT2pR * B\n",
      "kb * LT2p * B\n",
      "kb * LT3pR * B\n",
      "kb * LT3p * B\n",
      "kb * LT4pR * B\n",
      "kb * LT4p * B\n",
      "kb * T2pR * B\n",
      "kb * T2p * B\n",
      "kb * T3pR * B\n",
      "kb * T3p * B\n",
      "kb * T4pR * B\n",
      "kb * T4p * B\n",
      "ky * LT2pR * Y\n",
      "ky * LT2p * Y\n",
      "ky * LT3pR * Y\n",
      "ky * LT3p * Y\n",
      "ky * LT4pR * Y\n",
      "ky * LT4p * Y\n",
      "ky * T2pR * Y\n",
      "ky * T2p * Y\n",
      "ky * T3pR * Y\n",
      "ky * T3p * Y\n",
      "ky * T4pR * Y\n",
      "ky * T4p * Y\n",
      "k_b * Bp\n",
      "k_y * Yp * Z\n"
     ]
    }
   ],
   "source": [
    "for reaction in simple.reactions:\n",
    "    print(reaction.kinetic_law)"
   ]
  },
  {
   "cell_type": "code",
   "execution_count": 8,
   "metadata": {},
   "outputs": [
    {
     "data": {
      "text/plain": [
       "['k0', 'x0']"
      ]
     },
     "execution_count": 8,
     "metadata": {},
     "output_type": "execute_result"
    }
   ],
   "source": [
    "# Try a single law\n",
    "law = simple.reactions[0].kinetic_law\n",
    "law.symbols"
   ]
  },
  {
   "cell_type": "code",
   "execution_count": 10,
   "metadata": {},
   "outputs": [
    {
     "data": {
      "text/plain": [
       "0.0"
      ]
     },
     "execution_count": 10,
     "metadata": {},
     "output_type": "execute_result"
    }
   ],
   "source": [
    "# Get the parameter object for these\n",
    "k0_parameter = simple.getParameter('k0')\n",
    "k0_parameter.value"
   ]
  },
  {
   "cell_type": "markdown",
   "metadata": {},
   "source": [
    "So $k0$ has an assigned value. Now we need a test."
   ]
  },
  {
   "cell_type": "code",
   "execution_count": 14,
   "metadata": {},
   "outputs": [
    {
     "data": {
      "text/plain": [
       "True"
      ]
     },
     "execution_count": 14,
     "metadata": {},
     "output_type": "execute_result"
    }
   ],
   "source": [
    "# Testing if a parameter has an assigned value.\n",
    "is_valid = isinstance(k0_parameter.value, float) and (not np.isnan(k0_parameter.value))\n",
    "is_valid"
   ]
  }
 ],
 "metadata": {
  "kernelspec": {
   "display_name": "Python 3",
   "language": "python",
   "name": "python3"
  },
  "language_info": {
   "codemirror_mode": {
    "name": "ipython",
    "version": 3
   },
   "file_extension": ".py",
   "mimetype": "text/x-python",
   "name": "python",
   "nbconvert_exporter": "python",
   "pygments_lexer": "ipython3",
   "version": "3.6.4"
  }
 },
 "nbformat": 4,
 "nbformat_minor": 4
}